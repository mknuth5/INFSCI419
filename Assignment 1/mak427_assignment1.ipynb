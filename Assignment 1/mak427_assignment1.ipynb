{
 "cells": [
  {
   "cell_type": "markdown",
   "metadata": {},
   "source": [
    "** Anagrams **\n",
    "\n",
    "This program reads a word dictionary from a text file and uses that dictionary to find anagrams for words.\n",
    "\n",
    "An anagram is word or phrase formed by rearranging the letters of a different word or phrase, typically using all the original letters exactly once. \n",
    "\n",
    "For example, the word 'lives' is an anagram of 'elvis'\n",
    "\n",
    "The file containing English words can be downloaded from GitHub at https://github.com/dwyl/english-words\n"
   ]
  },
  {
   "cell_type": "code",
   "execution_count": 15,
   "metadata": {},
   "outputs": [
    {
     "name": "stdout",
     "output_type": "stream",
     "text": [
      "<_io.TextIOWrapper name='words.txt' mode='r' encoding='cp1252'>\n"
     ]
    }
   ],
   "source": [
    "# open function opens and reads a text file and stores the resulting data in a variable.\n",
    "# This function takes two parameters:\n",
    "# 1: the path to the file you wish to read and \n",
    "# 2: a flag denoting how you want to open the file.  In this case, 'r' indicates that we are opening the file as\n",
    "#    read-only\n",
    "\n",
    "words = open('words.txt', 'r')\n",
    "print(words)"
   ]
  },
  {
   "cell_type": "code",
   "execution_count": 16,
   "metadata": {},
   "outputs": [
    {
     "name": "stdout",
     "output_type": "stream",
     "text": [
      "['2\\n', '1080\\n', '&c\\n', '10-point\\n', '10th\\n', '11-point\\n', '12-point\\n', '16-point\\n', '18-point\\n', '1st\\n']\n"
     ]
    }
   ],
   "source": [
    "# Now we need to read individual lines of the text file.  Each line contains a single word. \n",
    "# The result of the following statement is a list (an array) of individual words read from the text file\n",
    "wordlist = words.readlines()\n",
    "\n",
    "print(wordlist[0:10])"
   ]
  },
  {
   "cell_type": "code",
   "execution_count": 17,
   "metadata": {},
   "outputs": [
    {
     "name": "stdout",
     "output_type": "stream",
     "text": [
      "['2', '1080', '&c', '10-point', '10th', '11-point', '12-point', '16-point', '18-point', '1st']\n"
     ]
    }
   ],
   "source": [
    "# You will notice that each word is followed by '\\n' - a new line character.  \n",
    "# In order to be able to find anagrams, we need to do two things - (1) remove the new line character from each word\n",
    "# and (2) convert each word to lower case\n",
    "# NOTE: The statement below uses a Python comprehension instead of a standard for loop.  \n",
    "# If you are up to the challenge, can you rewrite this comprehension as a for loop?\n",
    "wordclean = [word.strip().lower() for word in wordlist]\n",
    "\n",
    "print(wordclean[:10])"
   ]
  },
  {
   "cell_type": "code",
   "execution_count": 18,
   "metadata": {},
   "outputs": [],
   "source": [
    "# While this particular list only contains unique words, in real life we have to be concerned with duplicates.\n",
    "# The easiest way to de-dupe a list in Python is to use a 'set'.  Sets are mathematical constructs that only \n",
    "# allow unique values.  Converting a list to a set will automatically remove all duplicates.\n",
    "wordunique = set(wordclean)\n",
    "\n",
    "# Now we need to convert our set back into a list\n",
    "wordunique = list(wordclean)\n",
    "\n",
    "# NOTE:  The same thing could be done in a single statement:\n",
    "# wordunique = list(set(wordclean))"
   ]
  },
  {
   "cell_type": "code",
   "execution_count": 19,
   "metadata": {},
   "outputs": [
    {
     "name": "stdout",
     "output_type": "stream",
     "text": [
      "['&c', \"'d\", \"'em\", \"'ll\", \"'m\", \"'mid\", \"'midst\", \"'mongst\", \"'prentice\", \"'re\"]\n"
     ]
    }
   ],
   "source": [
    "# Converting our list to a set and back to a list created an unsorted list.  \n",
    "# We need to sort the list in lexiographic order\n",
    "wordunique.sort()\n",
    "\n",
    "# NOTE: Another way to sort a list is with sorted() function:\n",
    "# sorted(wordunique)\n",
    "\n",
    "print(wordunique[:10])"
   ]
  },
  {
   "cell_type": "code",
   "execution_count": 20,
   "metadata": {},
   "outputs": [
    {
     "data": {
      "text/plain": [
       "['e', 'i', 'l', 's', 'v']"
      ]
     },
     "execution_count": 20,
     "metadata": {},
     "output_type": "execute_result"
    }
   ],
   "source": [
    "# Sorting a string is very similar to sorting a list.  Python takes individual characters\n",
    "# that compose the original string and puts them in lexiographic order\n",
    "sorted('lives')"
   ]
  },
  {
   "cell_type": "code",
   "execution_count": 21,
   "metadata": {},
   "outputs": [
    {
     "data": {
      "text/plain": [
       "['e', 'i', 'l', 's', 'v']"
      ]
     },
     "execution_count": 21,
     "metadata": {},
     "output_type": "execute_result"
    }
   ],
   "source": [
    "sorted('elvis')"
   ]
  },
  {
   "cell_type": "code",
   "execution_count": 22,
   "metadata": {},
   "outputs": [],
   "source": [
    "# 1: get input\n",
    "# 2: convert input into an ordered sequence of letters\n",
    "# 3: iterate through list of words\n",
    "# 4: convert each word into an ordered sequence of letters\n",
    "# 5: compare original input's sequence of letters"
   ]
  },
  {
   "cell_type": "code",
   "execution_count": 35,
   "metadata": {},
   "outputs": [
    {
     "name": "stdout",
     "output_type": "stream",
     "text": [
      "Please input word:leepx\n"
     ]
    }
   ],
   "source": [
    "user_input = input(\"Please input word:\")"
   ]
  },
  {
   "cell_type": "code",
   "execution_count": 36,
   "metadata": {},
   "outputs": [],
   "source": [
    "sorted_user_input = sorted(user_input)"
   ]
  },
  {
   "cell_type": "code",
   "execution_count": 37,
   "metadata": {},
   "outputs": [
    {
     "name": "stdout",
     "output_type": "stream",
     "text": [
      "expel\n"
     ]
    }
   ],
   "source": [
    "for word in wordunique:\n",
    "    if sorted(word)==sorted_user_input:\n",
    "        print(word)"
   ]
  },
  {
   "cell_type": "code",
   "execution_count": null,
   "metadata": {},
   "outputs": [],
   "source": []
  },
  {
   "cell_type": "code",
   "execution_count": null,
   "metadata": {},
   "outputs": [],
   "source": []
  }
 ],
 "metadata": {
  "kernelspec": {
   "display_name": "Python 3",
   "language": "python",
   "name": "python3"
  },
  "language_info": {
   "codemirror_mode": {
    "name": "ipython",
    "version": 3
   },
   "file_extension": ".py",
   "mimetype": "text/x-python",
   "name": "python",
   "nbconvert_exporter": "python",
   "pygments_lexer": "ipython3",
   "version": "3.7.3"
  }
 },
 "nbformat": 4,
 "nbformat_minor": 2
}
