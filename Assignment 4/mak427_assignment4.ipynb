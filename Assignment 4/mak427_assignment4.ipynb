{
 "cells": [
  {
   "cell_type": "code",
   "execution_count": 1,
   "metadata": {},
   "outputs": [],
   "source": [
    "import pandas as pd\n",
    "import numpy as np\n",
    "from sklearn import preprocessing as prep"
   ]
  },
  {
   "cell_type": "code",
   "execution_count": 2,
   "metadata": {
    "scrolled": false
   },
   "outputs": [],
   "source": [
    "df = pd.read_csv(\"insurance.csv\")"
   ]
  },
  {
   "cell_type": "code",
   "execution_count": 3,
   "metadata": {
    "scrolled": false
   },
   "outputs": [
    {
     "name": "stdout",
     "output_type": "stream",
     "text": [
      "age         3\n",
      "sex         3\n",
      "bmi         0\n",
      "children    0\n",
      "smoker      0\n",
      "region      5\n",
      "charges     4\n",
      "dtype: int64\n"
     ]
    }
   ],
   "source": [
    "print(df.isnull().sum())"
   ]
  },
  {
   "cell_type": "code",
   "execution_count": 4,
   "metadata": {},
   "outputs": [
    {
     "name": "stdout",
     "output_type": "stream",
     "text": [
      "AxesSubplot(0.125,0.11;0.775x0.77)\n"
     ]
    }
   ],
   "source": [
    "#Before I replace the missing values for age I need to check for very young or very old outliers\n",
    "print(df[\"age\"].hist(bins=100))"
   ]
  },
  {
   "cell_type": "code",
   "execution_count": 5,
   "metadata": {
    "scrolled": true
   },
   "outputs": [
    {
     "name": "stdout",
     "output_type": "stream",
     "text": [
      "0\n"
     ]
    }
   ],
   "source": [
    "#There are a lot of 18 and 19 year olds but no outliers to pull the mean in one direction too much\n",
    "#Therefore I will replace the missing values in age with the mean value\n",
    "df[\"age\"].fillna(df[\"age\"].mean(), inplace=True)\n",
    "df[\"age\"] = df[\"age\"].astype(int)\n",
    "print(df[\"age\"].isnull().sum())"
   ]
  },
  {
   "cell_type": "code",
   "execution_count": 6,
   "metadata": {},
   "outputs": [],
   "source": [
    "#There are now zero missing values in age"
   ]
  },
  {
   "cell_type": "code",
   "execution_count": 7,
   "metadata": {},
   "outputs": [
    {
     "name": "stdout",
     "output_type": "stream",
     "text": [
      "     age     sex     bmi  children smoker     region      charges\n",
      "16    52     NaN  30.780         1     no  northeast  10797.33620\n",
      "66    61     NaN  39.100         2     no  southwest  14235.07200\n",
      "128   32  female  17.765         2    yes  northwest          NaN\n",
      "144   30    male  28.690         3    yes  northwest          NaN\n",
      "162   54     NaN  39.600         1     no  southwest  10450.55200\n",
      "201   48  female  32.230         1     no        NaN   8871.15170\n",
      "219   24  female  23.210         0     no        NaN  25081.76784\n",
      "234   39    male  24.510         2     no        NaN   6710.19190\n",
      "302   56  female  37.510         2     no  southeast          NaN\n",
      "429   27  female  30.400         3     no  northwest          NaN\n",
      "430   19    male  33.100         0     no        NaN  23082.95533\n",
      "598   43    male  32.600         2     no        NaN   7441.50100\n"
     ]
    }
   ],
   "source": [
    "#Lets move on to the next column:\n",
    "#Before I fill the missing values for the sex column with the most common occurance,\n",
    "#I am going to check if the missing values have children so I dont fill an obvious female spot\n",
    "\n",
    "null_data = df[df.isnull().any(axis=1)]\n",
    "print(null_data)"
   ]
  },
  {
   "cell_type": "code",
   "execution_count": 8,
   "metadata": {},
   "outputs": [
    {
     "name": "stdout",
     "output_type": "stream",
     "text": [
      "0\n"
     ]
    }
   ],
   "source": [
    "#Lucky for me, all the missing values for sex have at least one children\n",
    "#Therefore I can obviously fill these missing values with female\n",
    "df[\"sex\"].fillna(\"female\", inplace=True)\n",
    "print(df[\"sex\"].isnull().sum())"
   ]
  },
  {
   "cell_type": "code",
   "execution_count": 9,
   "metadata": {},
   "outputs": [
    {
     "name": "stdout",
     "output_type": "stream",
     "text": [
      "     age     sex     bmi  children smoker     region      charges\n",
      "128   32  female  17.765         2    yes  northwest          NaN\n",
      "144   30    male  28.690         3    yes  northwest          NaN\n",
      "201   48  female  32.230         1     no        NaN   8871.15170\n",
      "219   24  female  23.210         0     no        NaN  25081.76784\n",
      "234   39    male  24.510         2     no        NaN   6710.19190\n",
      "302   56  female  37.510         2     no  southeast          NaN\n",
      "429   27  female  30.400         3     no  northwest          NaN\n",
      "430   19    male  33.100         0     no        NaN  23082.95533\n",
      "598   43    male  32.600         2     no        NaN   7441.50100\n"
     ]
    }
   ],
   "source": [
    "#Now that there are zero missing values in sex, I will move onto region\n",
    "#Lets see what the missing values for region look like\n",
    "null_data = df[df.isnull().any(axis=1)]\n",
    "print(null_data)"
   ]
  },
  {
   "cell_type": "code",
   "execution_count": 10,
   "metadata": {},
   "outputs": [
    {
     "name": "stdout",
     "output_type": "stream",
     "text": [
      "southeast    362\n",
      "northeast    324\n",
      "northwest    324\n",
      "southwest    323\n",
      "Name: region, dtype: int64\n"
     ]
    }
   ],
   "source": [
    "#There is no good way to estimate where these people live other to assume they live in the most common region\n",
    "print(df[\"region\"].value_counts())"
   ]
  },
  {
   "cell_type": "code",
   "execution_count": 11,
   "metadata": {},
   "outputs": [
    {
     "name": "stdout",
     "output_type": "stream",
     "text": [
      "0\n"
     ]
    }
   ],
   "source": [
    "#The most common region is southeast, therefore I will replace the missing values with the most common region\n",
    "df[\"region\"].fillna(\"southeast\", inplace=True)\n",
    "print(df[\"sex\"].isnull().sum())"
   ]
  },
  {
   "cell_type": "code",
   "execution_count": 12,
   "metadata": {},
   "outputs": [
    {
     "name": "stdout",
     "output_type": "stream",
     "text": [
      "4\n"
     ]
    }
   ],
   "source": [
    "#There are four null values\n",
    "print(df[\"charges\"].isnull().sum())"
   ]
  },
  {
   "cell_type": "code",
   "execution_count": 13,
   "metadata": {
    "scrolled": false
   },
   "outputs": [
    {
     "name": "stdout",
     "output_type": "stream",
     "text": [
      "AxesSubplot(0.125,0.125;0.775x0.755)\n"
     ]
    },
    {
     "data": {
      "image/png": "[encoded data removed]",
      "text/plain": [
       "<Figure size 432x288 with 1 Axes>"
      ]
     },
     "metadata": {
      "needs_background": "light"
     },
     "output_type": "display_data"
    }
   ],
   "source": [
    "sqrt_transformed = df[\"charges\"].apply(np.sqrt)\n",
    "print(sqrt_transformed.hist(bins=100))"
   ]
  },
  {
   "cell_type": "code",
   "execution_count": 14,
   "metadata": {
    "scrolled": false
   },
   "outputs": [
    {
     "name": "stdout",
     "output_type": "stream",
     "text": [
      "AxesSubplot(0.125,0.125;0.775x0.755)\n"
     ]
    },
    {
     "data": {
      "image/png": "[encoded data removed]",
      "text/plain": [
       "<Figure size 432x288 with 1 Axes>"
      ]
     },
     "metadata": {
      "needs_background": "light"
     },
     "output_type": "display_data"
    }
   ],
   "source": [
    "log_transformed = df[\"charges\"].apply(np.log)\n",
    "print(log_transformed.hist(bins=100))"
   ]
  },
  {
   "cell_type": "code",
   "execution_count": 15,
   "metadata": {},
   "outputs": [],
   "source": [
    "#Out of all of those, the log of the dataset is the most normalized"
   ]
  },
  {
   "cell_type": "code",
   "execution_count": 20,
   "metadata": {},
   "outputs": [
    {
     "name": "stdout",
     "output_type": "stream",
     "text": [
      "0\n"
     ]
    },
    {
     "data": {
      "text/plain": [
       "<matplotlib.axes._subplots.AxesSubplot at 0x1c6098f6278>"
      ]
     },
     "execution_count": 20,
     "metadata": {},
     "output_type": "execute_result"
    },
    {
     "data": {
      "image/png": "[encoded data removed]",
      "text/plain": [
       "<Figure size 432x288 with 1 Axes>"
      ]
     },
     "metadata": {
      "needs_background": "light"
     },
     "output_type": "display_data"
    }
   ],
   "source": [
    "df[\"charges\"] = log_transformed\n",
    "df[\"charges\"].fillna(df[\"charges\"].median(), inplace=True)\n",
    "print(df[\"charges\"].hist(bins=100))\n",
    "print(df[\"charges\"].isnull().sum())\n",
    "#Let me transform it back\n",
    "df[\"charges\"] = df[\"charges\"].apply(np.exp)\n",
    "print(df[\"charges\"].hist(bins=100))"
   ]
  },
  {
   "cell_type": "code",
   "execution_count": 17,
   "metadata": {
    "scrolled": true
   },
   "outputs": [
    {
     "name": "stdout",
     "output_type": "stream",
     "text": [
      "AxesSubplot(0.125,0.125;0.775x0.755)\n",
      "0\n"
     ]
    },
    {
     "data": {
      "image/png": "[encoded data removed]",
      "text/plain": [
       "<Figure size 432x288 with 1 Axes>"
      ]
     },
     "metadata": {
      "needs_background": "light"
     },
     "output_type": "display_data"
    }
   ],
   "source": [
    "#Lets just see if BMI is normal already and has no null values\n",
    "print(df[\"bmi\"].hist(bins=100))\n",
    "print(df[\"bmi\"].isnull().sum())"
   ]
  },
  {
   "cell_type": "code",
   "execution_count": 18,
   "metadata": {
    "scrolled": true
   },
   "outputs": [
    {
     "name": "stdout",
     "output_type": "stream",
     "text": [
      "age             0\n",
      "sex             0\n",
      "bmi             0\n",
      "children        0\n",
      "smoker          0\n",
      "region          0\n",
      "log(charges)    0\n",
      "dtype: int64\n"
     ]
    }
   ],
   "source": [
    "df.columns = [\"age\",\"sex\",\"bmi\",\"children\",\"smoker\",\"region\",\"log(charges)\"]\n",
    "print(df.isnull().sum())"
   ]
  },
  {
   "cell_type": "code",
   "execution_count": 19,
   "metadata": {},
   "outputs": [],
   "source": [
    "#Let me output the dataframe as a clean csv file now\n",
    "export_csv = df.to_csv (r'C:\\Users\\Marty\\Desktop\\INFSCI 419\\Assignment 4\\insurance_cleaned.csv', index = None, header=True)"
   ]
  }
 ],
 "metadata": {
  "kernelspec": {
   "display_name": "Python 3",
   "language": "python",
   "name": "python3"
  },
  "language_info": {
   "codemirror_mode": {
    "name": "ipython",
    "version": 3
   },
   "file_extension": ".py",
   "mimetype": "text/x-python",
   "name": "python",
   "nbconvert_exporter": "python",
   "pygments_lexer": "ipython3",
   "version": "3.7.3"
  }
 },
 "nbformat": 4,
 "nbformat_minor": 2
}
