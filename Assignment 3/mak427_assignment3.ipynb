{
 "cells": [
  {
   "cell_type": "code",
   "execution_count": 1,
   "metadata": {},
   "outputs": [],
   "source": [
    "import pandas as pd"
   ]
  },
  {
   "cell_type": "code",
   "execution_count": 2,
   "metadata": {},
   "outputs": [],
   "source": [
    "country = pd.read_csv(\"country.csv\")"
   ]
  },
  {
   "cell_type": "code",
   "execution_count": 3,
   "metadata": {},
   "outputs": [],
   "source": [
    "city = pd.read_csv(\"city.csv\")"
   ]
  },
  {
   "cell_type": "code",
   "execution_count": 4,
   "metadata": {},
   "outputs": [],
   "source": [
    "df = pd.merge(country,city, how=\"inner\", left_on=\"Code\",right_on=\"CountryCode\")"
   ]
  },
  {
   "cell_type": "markdown",
   "metadata": {},
   "source": [
    "# Cities in Afghanistan sorted by population"
   ]
  },
  {
   "cell_type": "code",
   "execution_count": 5,
   "metadata": {
    "scrolled": true
   },
   "outputs": [
    {
     "name": "stdout",
     "output_type": "stream",
     "text": [
      "           Name_y       Name_x  District  Population_y\n",
      "1           Kabul  Afghanistan     Kabol       1780000\n",
      "2        Qandahar  Afghanistan  Qandahar        237500\n",
      "3           Herat  Afghanistan     Herat        186800\n",
      "4  Mazar-e-Sharif  Afghanistan     Balkh        127800\n"
     ]
    }
   ],
   "source": [
    "d1 = df[[\"Name_y\",\"Name_x\",\"District\",\"Population_y\"]]\n",
    "q = \"Name_x=='Afghanistan'\"\n",
    "print(d1.sort_values(by=['Population_y'],ascending=False).query(q))"
   ]
  },
  {
   "cell_type": "markdown",
   "metadata": {},
   "source": [
    "# Country in the Middle East with the lowest life expectancy"
   ]
  },
  {
   "cell_type": "code",
   "execution_count": 6,
   "metadata": {},
   "outputs": [
    {
     "name": "stdout",
     "output_type": "stream",
     "text": [
      "     Name_x  LifeExpectancy       Region\n",
      "4012  Yemen            59.8  Middle East\n"
     ]
    }
   ],
   "source": [
    "q = \"Region=='Middle East'\"\n",
    "d2 = df[[\"Name_x\",\"LifeExpectancy\",\"Region\"]]\n",
    "print(d2.sort_values(by=['LifeExpectancy'],).query(q).head(1))"
   ]
  },
  {
   "cell_type": "markdown",
   "metadata": {},
   "source": [
    "# Combined GNP of Carribean Countries"
   ]
  },
  {
   "cell_type": "code",
   "execution_count": 7,
   "metadata": {
    "scrolled": true
   },
   "outputs": [
    {
     "name": "stdout",
     "output_type": "stream",
     "text": [
      "103586.2\n"
     ]
    }
   ],
   "source": [
    "q = \"Region=='Caribbean'\"\n",
    "d3 = df[[\"Name_x\",\"GNP\",\"Region\"]]\n",
    "d3 = d3.query(q)\n",
    "d3.drop_duplicates(inplace=True) \n",
    "print(d3[\"GNP\"].sum())"
   ]
  },
  {
   "cell_type": "code",
   "execution_count": 8,
   "metadata": {},
   "outputs": [],
   "source": [
    "country_language = pd.read_csv(\"countrylanguage.csv\")\n",
    "df = pd.merge(country,country_language, how=\"inner\", left_on=\"Code\",right_on=\"CountryCode\")"
   ]
  },
  {
   "cell_type": "markdown",
   "metadata": {},
   "source": [
    "# Western European countries that speak French"
   ]
  },
  {
   "cell_type": "code",
   "execution_count": 9,
   "metadata": {
    "scrolled": true
   },
   "outputs": [
    {
     "name": "stdout",
     "output_type": "stream",
     "text": [
      "            Name          Region Language\n",
      "66       Belgium  Western Europe   French\n",
      "151  Switzerland  Western Europe   French\n",
      "290       France  Western Europe   French\n",
      "515   Luxembourg  Western Europe   French\n",
      "533       Monaco  Western Europe   French\n"
     ]
    }
   ],
   "source": [
    "d4 = df[[\"Name\",\"Region\",\"Language\"]]\n",
    "q = \"Region=='Western Europe' & Language == 'French'\"\n",
    "d4 = d4.query(q)\n",
    "print(d4)"
   ]
  },
  {
   "cell_type": "markdown",
   "metadata": {},
   "source": [
    "# Cities in Madagascar that with 'A'"
   ]
  },
  {
   "cell_type": "code",
   "execution_count": 10,
   "metadata": {},
   "outputs": [
    {
     "name": "stdout",
     "output_type": "stream",
     "text": [
      "          Name_y        Name_x\n",
      "2454  Madagascar  Antananarivo\n",
      "2456  Madagascar    AntsirabÃ©\n"
     ]
    }
   ],
   "source": [
    "df = pd.merge(city,country, how=\"inner\", left_on=\"CountryCode\",right_on=\"Code\")\n",
    "d5 = df[[\"Name_y\",\"Name_x\"]]\n",
    "q = \"Name_y=='Madagascar'\"\n",
    "d5 = d5.query(q)\n",
    "print(d5[d5['Name_x'].str.startswith('A')])\n"
   ]
  }
 ],
 "metadata": {
  "kernelspec": {
   "display_name": "Python 3",
   "language": "python",
   "name": "python3"
  },
  "language_info": {
   "codemirror_mode": {
    "name": "ipython",
    "version": 3
   },
   "file_extension": ".py",
   "mimetype": "text/x-python",
   "name": "python",
   "nbconvert_exporter": "python",
   "pygments_lexer": "ipython3",
   "version": "3.7.3"
  }
 },
 "nbformat": 4,
 "nbformat_minor": 2
}
